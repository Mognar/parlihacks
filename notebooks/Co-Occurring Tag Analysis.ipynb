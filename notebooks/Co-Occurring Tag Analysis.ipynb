{
 "cells": [
  {
   "cell_type": "markdown",
   "metadata": {},
   "source": [
    "# Co-Occurring Tag Analysis\n",
    "\n",
    "Analysing how tags co-occur across various Parliamentary publications. The idea behind this is to see whether there are naturally occurring groupings of topic tags by virtue of their co-occurence when used to tag different classes of Parlimanetary publication.\n",
    "\n",
    "The data is provided as a set of Linked Data triples exported as *Turtle* (`.ttl`) data files. The data represents, among other things, Parlimentary resources (such as early day motions or other proceedings records) and subject/topic labels they are tagged with.\n",
    "\n",
    "The data allows us to generate a graph that associates tags with resources, and from that a graph that directly associates tags with other tags by virtue of their commonly tagging the same resource or set of resources."
   ]
  },
  {
   "cell_type": "code",
   "execution_count": 2,
   "metadata": {},
   "outputs": [
    {
     "name": "stdout",
     "output_type": "stream",
     "text": [
      "\u001b[34medms\u001b[m\u001b[m        \u001b[34mproceedings\u001b[m\u001b[m \u001b[34mterms\u001b[m\u001b[m\r\n"
     ]
    }
   ],
   "source": [
    "#Data files\n",
    "!ls ../data/dataexport"
   ]
  },
  {
   "cell_type": "markdown",
   "metadata": {},
   "source": [
    "## Utils"
   ]
  },
  {
   "cell_type": "markdown",
   "metadata": {},
   "source": [
    "Import a library that lets us work with the data files:"
   ]
  },
  {
   "cell_type": "code",
   "execution_count": 3,
   "metadata": {},
   "outputs": [],
   "source": [
    "#Data is provided as Turtle/ttl files - rdflib handles those\n",
    "\n",
    "#!pip3 install rdflib\n",
    "from rdflib import Graph"
   ]
  },
  {
   "cell_type": "markdown",
   "metadata": {},
   "source": [
    "Simple utility to load all the `.ttl` files in a particular directory into a graph:"
   ]
  },
  {
   "cell_type": "code",
   "execution_count": 4,
   "metadata": {},
   "outputs": [],
   "source": [
    "import os\n",
    "def ttl_graphbuilder(path,g=None,debug=False):\n",
    "    #We can add the triples to an existing graph or create a new one for them\n",
    "    if g is None:\n",
    "        g=Graph()\n",
    "        \n",
    "    #Loop through all the files in the directory and then load the ones that have a .ttl suffix\n",
    "    for ttl in [f for f in os.listdir(path) if f.endswith('.ttl')]:\n",
    "        if debug: print(ttl)\n",
    "        g.parse('{}/{}'.format(path,ttl), format='turtle')\n",
    "    return g"
   ]
  },
  {
   "cell_type": "markdown",
   "metadata": {},
   "source": [
    "Tools for running queries over a graph and either printing the result or putting it into a `pandas` dataframe:"
   ]
  },
  {
   "cell_type": "code",
   "execution_count": 5,
   "metadata": {},
   "outputs": [],
   "source": [
    "def rdfQuery(graph,q):\n",
    "    ans=graph.query(q)\n",
    "    for row in ans:\n",
    "        for el in row:\n",
    "            print(el,end=\" \")\n",
    "        print()\n",
    "\n",
    "#ish via https://github.com/schemaorg/schemaorg/blob/sdo-callisto/scripts/dashboard.ipynb\n",
    "import pandas as pd\n",
    "def sparql2df(graph,q, cast_to_numeric=True):\n",
    "    a=graph.query(q)\n",
    "    c = []\n",
    "    for b in a.bindings:\n",
    "        rowvals=[]\n",
    "        for k in a.vars:\n",
    "            rowvals.append(b[k])\n",
    "        c.append(rowvals)\n",
    "\n",
    "    df = pd.DataFrame(c)\n",
    "    df.columns = [str(v) for v in a.vars]\n",
    "    if cast_to_numeric:\n",
    "        df = df.apply(lambda x: pd.to_numeric(x, errors='ignore'))\n",
    "\n",
    "    return df"
   ]
  },
  {
   "cell_type": "markdown",
   "metadata": {},
   "source": [
    "Tools to support the export and display of graphs - `networkx` package is handy in this respect, eg exporting to GEXF format for use with Gephi. We can also run projections on the graph quite easily."
   ]
  },
  {
   "cell_type": "code",
   "execution_count": 6,
   "metadata": {},
   "outputs": [],
   "source": [
    "import networkx as nx"
   ]
  },
  {
   "cell_type": "markdown",
   "metadata": {},
   "source": [
    "## Exploring the Data - Terms"
   ]
  },
  {
   "cell_type": "code",
   "execution_count": 7,
   "metadata": {},
   "outputs": [],
   "source": [
    "path='../data/dataexport/terms'\n",
    "termgraph=ttl_graphbuilder(path)"
   ]
  },
  {
   "cell_type": "code",
   "execution_count": 8,
   "metadata": {},
   "outputs": [
    {
     "name": "stdout",
     "output_type": "stream",
     "text": [
      "http://data.parliament.uk/terms/1 http://www.w3.org/2004/02/skos/core#narrower http://data.parliament.uk/terms/432852 \n",
      "http://data.parliament.uk/terms/74531 http://www.w3.org/2004/02/skos/core#prefLabel CND \n",
      "http://data.parliament.uk/terms/75625 http://www.w3.org/1999/02/22-rdf-syntax-ns#type http://www.w3.org/2004/02/skos/core#Concept \n",
      "http://data.parliament.uk/terms/21137 http://www.w3.org/2004/02/skos/core#related http://data.parliament.uk/terms/302245 \n",
      "http://data.parliament.uk/terms/304226 http://www.w3.org/2004/02/skos/core#prefLabel Vittinghoff, Kurt \n",
      "http://data.parliament.uk/terms/382221 http://www.w3.org/2004/02/skos/core#notation LEG \n",
      "http://data.parliament.uk/terms/59527 http://www.w3.org/2004/02/skos/core#exactMatch http://data.parliament.uk/terms/430660 \n",
      "http://data.parliament.uk/terms/13557 http://www.w3.org/2004/02/skos/core#narrower http://data.parliament.uk/terms/11980 \n",
      "http://data.parliament.uk/terms/90756 http://www.w3.org/2004/02/skos/core#narrower http://data.parliament.uk/terms/398061 \n",
      "http://data.parliament.uk/terms/54042 http://www.w3.org/2004/02/skos/core#notation  \n"
     ]
    }
   ],
   "source": [
    "#What's in the graph generally?\n",
    "q='''\n",
    "SELECT DISTINCT ?x ?y ?z {\n",
    "    ?x ?y ?z.\n",
    "} LIMIT 10\n",
    "'''\n",
    "rdfQuery(termgraph,q)"
   ]
  },
  {
   "cell_type": "code",
   "execution_count": 9,
   "metadata": {},
   "outputs": [
    {
     "name": "stdout",
     "output_type": "stream",
     "text": [
      "http://www.w3.org/2004/02/skos/core#narrower http://data.parliament.uk/terms/95494 \n",
      "http://www.w3.org/1999/02/22-rdf-syntax-ns#type http://www.w3.org/2004/02/skos/core#Concept \n",
      "http://www.w3.org/2004/02/skos/core#prefLabel Defence policy \n",
      "http://www.w3.org/2004/02/skos/core#narrower http://data.parliament.uk/terms/95550 \n",
      "http://www.w3.org/2004/02/skos/core#narrower http://data.parliament.uk/terms/95502 \n",
      "http://www.w3.org/2004/02/skos/core#notation TPG \n",
      "http://www.w3.org/2004/02/skos/core#narrower http://data.parliament.uk/terms/95586 \n",
      "http://www.w3.org/2004/02/skos/core#broader http://data.parliament.uk/terms/95548 \n"
     ]
    }
   ],
   "source": [
    "#What does a term have associated with it more specifically?\n",
    "q='''\n",
    "SELECT DISTINCT ?y ?z {\n",
    "    <http://data.parliament.uk/terms/95551> ?y ?z.\n",
    "} LIMIT 10\n",
    "'''\n",
    "rdfQuery(termgraph,q)"
   ]
  },
  {
   "cell_type": "markdown",
   "metadata": {},
   "source": [
    "Looks like the `prefLabel` is what we want:"
   ]
  },
  {
   "cell_type": "code",
   "execution_count": 10,
   "metadata": {},
   "outputs": [
    {
     "data": {
      "text/html": [
       "<div>\n",
       "<style>\n",
       "    .dataframe thead tr:only-child th {\n",
       "        text-align: right;\n",
       "    }\n",
       "\n",
       "    .dataframe thead th {\n",
       "        text-align: left;\n",
       "    }\n",
       "\n",
       "    .dataframe tbody tr th {\n",
       "        vertical-align: top;\n",
       "    }\n",
       "</style>\n",
       "<table border=\"1\" class=\"dataframe\">\n",
       "  <thead>\n",
       "    <tr style=\"text-align: right;\">\n",
       "      <th></th>\n",
       "      <th>z</th>\n",
       "      <th>topic</th>\n",
       "    </tr>\n",
       "  </thead>\n",
       "  <tbody>\n",
       "    <tr>\n",
       "      <th>0</th>\n",
       "      <td>http://data.parliament.uk/terms/409830</td>\n",
       "      <td>Tim Devlin</td>\n",
       "    </tr>\n",
       "    <tr>\n",
       "      <th>1</th>\n",
       "      <td>http://data.parliament.uk/terms/69027</td>\n",
       "      <td>Standard Chartered Capital Markets</td>\n",
       "    </tr>\n",
       "    <tr>\n",
       "      <th>2</th>\n",
       "      <td>http://data.parliament.uk/terms/20941</td>\n",
       "      <td>COBHAM RESOURCE CONSULTANTS</td>\n",
       "    </tr>\n",
       "    <tr>\n",
       "      <th>3</th>\n",
       "      <td>http://data.parliament.uk/terms/426943</td>\n",
       "      <td>Comite des Sages for Air Transport</td>\n",
       "    </tr>\n",
       "    <tr>\n",
       "      <th>4</th>\n",
       "      <td>http://data.parliament.uk/terms/75197</td>\n",
       "      <td>DCDB</td>\n",
       "    </tr>\n",
       "    <tr>\n",
       "      <th>5</th>\n",
       "      <td>http://data.parliament.uk/terms/74531</td>\n",
       "      <td>CND</td>\n",
       "    </tr>\n",
       "    <tr>\n",
       "      <th>6</th>\n",
       "      <td>http://data.parliament.uk/terms/387391</td>\n",
       "      <td>Regency Act 1937</td>\n",
       "    </tr>\n",
       "    <tr>\n",
       "      <th>7</th>\n",
       "      <td>http://data.parliament.uk/terms/61706</td>\n",
       "      <td>Portuguese Trade and Tourism Office</td>\n",
       "    </tr>\n",
       "    <tr>\n",
       "      <th>8</th>\n",
       "      <td>http://data.parliament.uk/terms/25736</td>\n",
       "      <td>COMMONHOLD ASSOCIATION</td>\n",
       "    </tr>\n",
       "    <tr>\n",
       "      <th>9</th>\n",
       "      <td>http://data.parliament.uk/terms/304226</td>\n",
       "      <td>Vittinghoff, Kurt</td>\n",
       "    </tr>\n",
       "  </tbody>\n",
       "</table>\n",
       "</div>"
      ],
      "text/plain": [
       "                                        z                                topic\n",
       "0  http://data.parliament.uk/terms/409830                           Tim Devlin\n",
       "1   http://data.parliament.uk/terms/69027   Standard Chartered Capital Markets\n",
       "2   http://data.parliament.uk/terms/20941          COBHAM RESOURCE CONSULTANTS\n",
       "3  http://data.parliament.uk/terms/426943   Comite des Sages for Air Transport\n",
       "4   http://data.parliament.uk/terms/75197                                 DCDB\n",
       "5   http://data.parliament.uk/terms/74531                                  CND\n",
       "6  http://data.parliament.uk/terms/387391                     Regency Act 1937\n",
       "7   http://data.parliament.uk/terms/61706  Portuguese Trade and Tourism Office\n",
       "8   http://data.parliament.uk/terms/25736               COMMONHOLD ASSOCIATION\n",
       "9  http://data.parliament.uk/terms/304226                    Vittinghoff, Kurt"
      ]
     },
     "execution_count": 10,
     "metadata": {},
     "output_type": "execute_result"
    }
   ],
   "source": [
    "q='''\n",
    "SELECT DISTINCT ?z ?topic {\n",
    "    ?z <http://www.w3.org/2004/02/skos/core#prefLabel> ?topic.\n",
    "} LIMIT 10\n",
    "'''\n",
    "sparql2df(termgraph,q)"
   ]
  },
  {
   "cell_type": "markdown",
   "metadata": {},
   "source": [
    "## Exploring the Data - EDMS"
   ]
  },
  {
   "cell_type": "code",
   "execution_count": 11,
   "metadata": {},
   "outputs": [],
   "source": [
    "path='../data/dataexport/edms'\n",
    "g=ttl_graphbuilder(path)"
   ]
  },
  {
   "cell_type": "code",
   "execution_count": 12,
   "metadata": {},
   "outputs": [
    {
     "name": "stdout",
     "output_type": "stream",
     "text": [
      "http://data.parliament.uk/edms/49543 http://data.parliament.uk/schema/parl#topic http://data.parliament.uk/terms/95686 \n",
      "http://data.parliament.uk/edms/49989 http://www.w3.org/1999/02/22-rdf-syntax-ns#type http://data.parliament.uk/schema/parl#EarlyDayMotion \n",
      "http://data.parliament.uk/edms/49534 http://data.parliament.uk/schema/parl#motionText That this House celebrates the 40th anniversary of the Ulster American Folk Park and Museum and the strong relationship between the United States (US) and the United Kingdom of Great Britain and Northern Ireland; notes that this anniversary underlines the special relationship between Northern Ireland and the US and its 16 Presidents who had Ulster connections; and hopes that this bond will continue to thrive and blossom in the years ahead. \n",
      "http://data.parliament.uk/edms/49846 http://data.parliament.uk/schema/parl#topic http://data.parliament.uk/terms/95494 \n",
      "http://data.parliament.uk/edms/49806 http://www.w3.org/1999/02/22-rdf-syntax-ns#type http://data.parliament.uk/schema/parl#EarlyDayMotion \n",
      "http://data.parliament.uk/edms/49925 http://data.parliament.uk/schema/parl#topic http://data.parliament.uk/terms/95761 \n",
      "http://data.parliament.uk/edms/49297 http://purl.org/dc/terms/date 2016-05-18T23:00:00+00:00 \n",
      "http://data.parliament.uk/edms/49487 http://www.w3.org/1999/02/22-rdf-syntax-ns#type http://data.parliament.uk/schema/parl#EarlyDayMotion \n",
      "http://data.parliament.uk/edms/50337 http://data.parliament.uk/schema/parl#topic http://data.parliament.uk/terms/95533 \n",
      "http://data.parliament.uk/edms/49611 http://data.parliament.uk/schema/parl#motionText That this House remembers with respect and love, in the week of his birthday, the incredible legacy left by Nelson Mandela to the world; acknowledges that to many Africans he was known simply as Madiba; endorses the message behind Mandela Day that all citizens of the world should endeavour to do good every day; agrees that the actions of those citizens should focus on the realisation or restoration of dignity and empowerment, looks forward to welcoming Madiba's friend and one time fellow political prisoner Denis Goldberg to Parliament on 20 July 2016; and supports calls by the Nelson Mandela Foundation to make every day a Mandela Day. \n"
     ]
    }
   ],
   "source": [
    "#See what's there generally...\n",
    "q='''\n",
    "SELECT DISTINCT ?x ?y ?z {\n",
    "    ?x ?y ?z.\n",
    "} LIMIT 10\n",
    "'''\n",
    "rdfQuery(g,q)"
   ]
  },
  {
   "cell_type": "code",
   "execution_count": 13,
   "metadata": {},
   "outputs": [
    {
     "name": "stdout",
     "output_type": "stream",
     "text": [
      "http://data.parliament.uk/schema/parl#motionText That this House notes the announcement of 300 redundancies at the Nestlé manufacturing factories in York, Fawdon, Halifax and Girvan and that production of the Blue Riband bar will be transferred to Poland; acknowledges in the first three months of 2017 Nestlé achieved £21 billion in sales, a 0.4 per cent increase over the same period in 2016; further notes 156 of these job losses will be in York, a city that in the last six months has seen 2,000 job losses announced and has become the most inequitable city outside of the South East, and a further 110 jobs from Fawdon, Newcastle; recognises the losses come within a month of triggering Article 50, and as negotiations with the EU on the UK leaving the EU and the UK's future with the EU are commencing; further recognises the cost of importing products, including sugar, cocoa and production machinery, has risen due to the weakness of the pound and the uncertainty over the UK's future relationship with the single market and customs union; and calls on the Government to intervene and work with hon. Members, trades unions GMB and Unite and the company to avert these job losses now and prevent further job losses across Nestlé. \n",
      "http://data.parliament.uk/schema/parl#topic http://data.parliament.uk/terms/95530 \n",
      "http://data.parliament.uk/schema/parl#topic http://data.parliament.uk/terms/95591 \n",
      "http://purl.org/dc/terms/date 2017-04-25T23:00:00+00:00 \n",
      "http://www.w3.org/1999/02/22-rdf-syntax-ns#type http://data.parliament.uk/schema/parl#EarlyDayMotion \n"
     ]
    }
   ],
   "source": [
    "#Explore a specific EDM\n",
    "q='''\n",
    "SELECT DISTINCT ?y ?z {\n",
    "    <http://data.parliament.uk/edms/50457> ?y ?z.\n",
    "}\n",
    "'''\n",
    "rdfQuery(g,q)"
   ]
  },
  {
   "cell_type": "markdown",
   "metadata": {},
   "source": [
    "Let's merge the EDM graph data with the terms data."
   ]
  },
  {
   "cell_type": "code",
   "execution_count": 15,
   "metadata": {},
   "outputs": [],
   "source": [
    "path='../data/dataexport/edms'\n",
    "g=ttl_graphbuilder(path,termgraph)"
   ]
  },
  {
   "cell_type": "markdown",
   "metadata": {},
   "source": [
    "Now we can look at the term labels associated with a particular EDM."
   ]
  },
  {
   "cell_type": "code",
   "execution_count": 16,
   "metadata": {},
   "outputs": [
    {
     "name": "stdout",
     "output_type": "stream",
     "text": [
      "Arms control http://data.parliament.uk/terms/95494 \n",
      "International politics and government http://data.parliament.uk/terms/95650 \n",
      "North America http://data.parliament.uk/terms/95690 \n",
      "Defence policy http://data.parliament.uk/terms/95551 \n"
     ]
    }
   ],
   "source": [
    "q='''\n",
    "SELECT DISTINCT ?t ?z {\n",
    "    <http://data.parliament.uk/edms/50114> <http://data.parliament.uk/schema/parl#topic> ?z.\n",
    "    ?z <http://www.w3.org/2004/02/skos/core#prefLabel> ?t.\n",
    "} LIMIT 10\n",
    "'''\n",
    "rdfQuery(g,q)"
   ]
  },
  {
   "cell_type": "markdown",
   "metadata": {},
   "source": [
    "We can also create a table that links topic labels with EDMs. "
   ]
  },
  {
   "cell_type": "code",
   "execution_count": 17,
   "metadata": {},
   "outputs": [
    {
     "data": {
      "text/html": [
       "<div>\n",
       "<style>\n",
       "    .dataframe thead tr:only-child th {\n",
       "        text-align: right;\n",
       "    }\n",
       "\n",
       "    .dataframe thead th {\n",
       "        text-align: left;\n",
       "    }\n",
       "\n",
       "    .dataframe tbody tr th {\n",
       "        vertical-align: top;\n",
       "    }\n",
       "</style>\n",
       "<table border=\"1\" class=\"dataframe\">\n",
       "  <thead>\n",
       "    <tr style=\"text-align: right;\">\n",
       "      <th></th>\n",
       "      <th>edms</th>\n",
       "      <th>topic</th>\n",
       "    </tr>\n",
       "  </thead>\n",
       "  <tbody>\n",
       "    <tr>\n",
       "      <th>0</th>\n",
       "      <td>http://data.parliament.uk/edms/49347</td>\n",
       "      <td>Roads</td>\n",
       "    </tr>\n",
       "    <tr>\n",
       "      <th>1</th>\n",
       "      <td>http://data.parliament.uk/edms/49347</td>\n",
       "      <td>Charities</td>\n",
       "    </tr>\n",
       "    <tr>\n",
       "      <th>2</th>\n",
       "      <td>http://data.parliament.uk/edms/49347</td>\n",
       "      <td>Disability discrimination</td>\n",
       "    </tr>\n",
       "    <tr>\n",
       "      <th>3</th>\n",
       "      <td>http://data.parliament.uk/edms/49347</td>\n",
       "      <td>Animals</td>\n",
       "    </tr>\n",
       "    <tr>\n",
       "      <th>4</th>\n",
       "      <td>http://data.parliament.uk/edms/49347</td>\n",
       "      <td>Service industries</td>\n",
       "    </tr>\n",
       "  </tbody>\n",
       "</table>\n",
       "</div>"
      ],
      "text/plain": [
       "                                   edms                      topic\n",
       "0  http://data.parliament.uk/edms/49347                      Roads\n",
       "1  http://data.parliament.uk/edms/49347                  Charities\n",
       "2  http://data.parliament.uk/edms/49347  Disability discrimination\n",
       "3  http://data.parliament.uk/edms/49347                    Animals\n",
       "4  http://data.parliament.uk/edms/49347         Service industries"
      ]
     },
     "execution_count": 17,
     "metadata": {},
     "output_type": "execute_result"
    }
   ],
   "source": [
    "q='''\n",
    "SELECT DISTINCT ?edms ?topic {\n",
    "    ?edms <http://www.w3.org/1999/02/22-rdf-syntax-ns#type> <http://data.parliament.uk/schema/parl#EarlyDayMotion>.\n",
    "    ?edms <http://data.parliament.uk/schema/parl#topic> ?z.\n",
    "    ?z <http://www.w3.org/2004/02/skos/core#prefLabel> ?topic.\n",
    "}\n",
    "'''\n",
    "g_df=sparql2df(g,q)\n",
    "g_df.head()"
   ]
  },
  {
   "cell_type": "markdown",
   "metadata": {},
   "source": [
    "From this table, we can a generate a bipartite `networkx` graph that links topic labels with EDMs."
   ]
  },
  {
   "cell_type": "code",
   "execution_count": 18,
   "metadata": {},
   "outputs": [],
   "source": [
    "nxg=nx.from_pandas_dataframe(g_df, 'edms', 'topic')\n",
    "#nx.write_gexf(nxg,'edms.gexf')"
   ]
  },
  {
   "cell_type": "markdown",
   "metadata": {},
   "source": [
    "We can then project this bipartite graph onto just the topic label nodes - edges will now connect nodes that are linked through one or more common EDMs."
   ]
  },
  {
   "cell_type": "code",
   "execution_count": 19,
   "metadata": {},
   "outputs": [],
   "source": [
    "from networkx.algorithms import bipartite\n",
    "#We can find the sets of names/tags associated with the disjoint sets in the graph\n",
    "#I think the directedness of the graph means we can be reasonably sure the variable names are correctly ordered?\n",
    "edms,topic=bipartite.sets(nxg)\n",
    "\n",
    "#Collapse the bipartite graph to a graph of topic labels connected via a common EDM\n",
    "topicgraph= bipartite.projected_graph(nxg, topic)\n",
    "nx.write_gexf(topicgraph,'edms_topics.gexf')"
   ]
  },
  {
   "cell_type": "markdown",
   "metadata": {},
   "source": [
    "We can also generate a weighted graph, where edges are weighted relative to how many times topics are linked through different EDMs."
   ]
  },
  {
   "cell_type": "code",
   "execution_count": 20,
   "metadata": {},
   "outputs": [],
   "source": [
    "topicgraph_weighted= bipartite.weighted_projected_graph(nxg, topic)\n",
    "nx.write_gexf(topicgraph_weighted,'edms_topics_weighted.gexf')"
   ]
  },
  {
   "cell_type": "markdown",
   "metadata": {},
   "source": [
    "## Predicting Topics"
   ]
  },
  {
   "cell_type": "code",
   "execution_count": 39,
   "metadata": {},
   "outputs": [],
   "source": [
    "#!pip3 install sklearn"
   ]
  },
  {
   "cell_type": "code",
   "execution_count": 73,
   "metadata": {},
   "outputs": [],
   "source": [
    "#via https://stackoverflow.com/a/19172087/454773\n",
    "import numpy as np\n",
    "from sklearn.pipeline import Pipeline\n",
    "from sklearn.feature_extraction.text import CountVectorizer\n",
    "from sklearn.svm import LinearSVC\n",
    "from sklearn.feature_extraction.text import TfidfTransformer\n",
    "from sklearn.multiclass import OneVsRestClassifier\n",
    "from sklearn.preprocessing import MultiLabelBinarizer"
   ]
  },
  {
   "cell_type": "code",
   "execution_count": 56,
   "metadata": {},
   "outputs": [
    {
     "data": {
      "text/html": [
       "<div>\n",
       "<style>\n",
       "    .dataframe thead tr:only-child th {\n",
       "        text-align: right;\n",
       "    }\n",
       "\n",
       "    .dataframe thead th {\n",
       "        text-align: left;\n",
       "    }\n",
       "\n",
       "    .dataframe tbody tr th {\n",
       "        vertical-align: top;\n",
       "    }\n",
       "</style>\n",
       "<table border=\"1\" class=\"dataframe\">\n",
       "  <thead>\n",
       "    <tr style=\"text-align: right;\">\n",
       "      <th></th>\n",
       "      <th>edms</th>\n",
       "      <th>topic</th>\n",
       "    </tr>\n",
       "  </thead>\n",
       "  <tbody>\n",
       "    <tr>\n",
       "      <th>0</th>\n",
       "      <td>http://data.parliament.uk/edms/49252</td>\n",
       "      <td>[Sports and Olympic Games]</td>\n",
       "    </tr>\n",
       "    <tr>\n",
       "      <th>1</th>\n",
       "      <td>http://data.parliament.uk/edms/49253</td>\n",
       "      <td>[Tourism, Service industries, Food]</td>\n",
       "    </tr>\n",
       "    <tr>\n",
       "      <th>2</th>\n",
       "      <td>http://data.parliament.uk/edms/49254</td>\n",
       "      <td>[Charities, Armed forces welfare]</td>\n",
       "    </tr>\n",
       "    <tr>\n",
       "      <th>3</th>\n",
       "      <td>http://data.parliament.uk/edms/49255</td>\n",
       "      <td>[Health staff and professions, Health services...</td>\n",
       "    </tr>\n",
       "    <tr>\n",
       "      <th>4</th>\n",
       "      <td>http://data.parliament.uk/edms/49256</td>\n",
       "      <td>[Diseases, Health education and preventive med...</td>\n",
       "    </tr>\n",
       "  </tbody>\n",
       "</table>\n",
       "</div>"
      ],
      "text/plain": [
       "                                   edms  \\\n",
       "0  http://data.parliament.uk/edms/49252   \n",
       "1  http://data.parliament.uk/edms/49253   \n",
       "2  http://data.parliament.uk/edms/49254   \n",
       "3  http://data.parliament.uk/edms/49255   \n",
       "4  http://data.parliament.uk/edms/49256   \n",
       "\n",
       "                                               topic  \n",
       "0                         [Sports and Olympic Games]  \n",
       "1                [Tourism, Service industries, Food]  \n",
       "2                  [Charities, Armed forces welfare]  \n",
       "3  [Health staff and professions, Health services...  \n",
       "4  [Diseases, Health education and preventive med...  "
      ]
     },
     "execution_count": 56,
     "metadata": {},
     "output_type": "execute_result"
    }
   ],
   "source": [
    "#via https://stackoverflow.com/questions/22219004/grouping-rows-in-list-in-pandas-groupby\n",
    "g_df['topic']=g_df['topic'].astype(str)\n",
    "topicsbyedm_df=g_df.groupby('edms')['topic'].apply(list).to_frame().reset_index()\n",
    "topicsbyedm_df.head()"
   ]
  },
  {
   "cell_type": "code",
   "execution_count": 57,
   "metadata": {},
   "outputs": [
    {
     "data": {
      "text/html": [
       "<div>\n",
       "<style>\n",
       "    .dataframe thead tr:only-child th {\n",
       "        text-align: right;\n",
       "    }\n",
       "\n",
       "    .dataframe thead th {\n",
       "        text-align: left;\n",
       "    }\n",
       "\n",
       "    .dataframe tbody tr th {\n",
       "        vertical-align: top;\n",
       "    }\n",
       "</style>\n",
       "<table border=\"1\" class=\"dataframe\">\n",
       "  <thead>\n",
       "    <tr style=\"text-align: right;\">\n",
       "      <th></th>\n",
       "      <th>edms</th>\n",
       "      <th>motiontext</th>\n",
       "      <th>topic</th>\n",
       "    </tr>\n",
       "  </thead>\n",
       "  <tbody>\n",
       "    <tr>\n",
       "      <th>0</th>\n",
       "      <td>http://data.parliament.uk/edms/49347</td>\n",
       "      <td>That this House is aware that guide dog owners...</td>\n",
       "      <td>[Roads, Charities, Disability discrimination, ...</td>\n",
       "    </tr>\n",
       "    <tr>\n",
       "      <th>1</th>\n",
       "      <td>http://data.parliament.uk/edms/50020</td>\n",
       "      <td>That this House congratulates Titanic Belfast ...</td>\n",
       "      <td>[Tourism]</td>\n",
       "    </tr>\n",
       "    <tr>\n",
       "      <th>2</th>\n",
       "      <td>http://data.parliament.uk/edms/50173</td>\n",
       "      <td>That this House recognises the vitally importa...</td>\n",
       "      <td>[Health services, Mental health]</td>\n",
       "    </tr>\n",
       "    <tr>\n",
       "      <th>3</th>\n",
       "      <td>http://data.parliament.uk/edms/49751</td>\n",
       "      <td>That this House congratulates Glasgow-based Wo...</td>\n",
       "      <td>[Charities]</td>\n",
       "    </tr>\n",
       "    <tr>\n",
       "      <th>4</th>\n",
       "      <td>http://data.parliament.uk/edms/50136</td>\n",
       "      <td>That this House congratulates the Scotsman new...</td>\n",
       "      <td>[Press]</td>\n",
       "    </tr>\n",
       "  </tbody>\n",
       "</table>\n",
       "</div>"
      ],
      "text/plain": [
       "                                   edms  \\\n",
       "0  http://data.parliament.uk/edms/49347   \n",
       "1  http://data.parliament.uk/edms/50020   \n",
       "2  http://data.parliament.uk/edms/50173   \n",
       "3  http://data.parliament.uk/edms/49751   \n",
       "4  http://data.parliament.uk/edms/50136   \n",
       "\n",
       "                                          motiontext  \\\n",
       "0  That this House is aware that guide dog owners...   \n",
       "1  That this House congratulates Titanic Belfast ...   \n",
       "2  That this House recognises the vitally importa...   \n",
       "3  That this House congratulates Glasgow-based Wo...   \n",
       "4  That this House congratulates the Scotsman new...   \n",
       "\n",
       "                                               topic  \n",
       "0  [Roads, Charities, Disability discrimination, ...  \n",
       "1                                          [Tourism]  \n",
       "2                   [Health services, Mental health]  \n",
       "3                                        [Charities]  \n",
       "4                                            [Press]  "
      ]
     },
     "execution_count": 57,
     "metadata": {},
     "output_type": "execute_result"
    }
   ],
   "source": [
    "q='''\n",
    "SELECT DISTINCT ?edms ?motiontext {\n",
    "    ?edms <http://www.w3.org/1999/02/22-rdf-syntax-ns#type> <http://data.parliament.uk/schema/parl#EarlyDayMotion>.\n",
    "    ?edms <http://data.parliament.uk/schema/parl#motionText> ?motiontext.\n",
    "}\n",
    "'''\n",
    "m_df=sparql2df(g,q)\n",
    "m_df=m_df.merge(topicsbyedm_df,on='edms')\n",
    "m_df.head()"
   ]
  },
  {
   "cell_type": "code",
   "execution_count": 69,
   "metadata": {},
   "outputs": [],
   "source": [
    "X_train= np.array(m_df['motiontext'][:-100].tolist())\n",
    "X_test = np.array(m_df['motiontext'][-100:].tolist())   "
   ]
  },
  {
   "cell_type": "code",
   "execution_count": 70,
   "metadata": {},
   "outputs": [
    {
     "data": {
      "text/plain": [
       "['Roads', 'Charities', 'Disability discrimination']"
      ]
     },
     "execution_count": 70,
     "metadata": {},
     "output_type": "execute_result"
    }
   ],
   "source": [
    "target_names=g_df['topic'].astype(str).tolist()\n",
    "target_names[:3]"
   ]
  },
  {
   "cell_type": "code",
   "execution_count": 76,
   "metadata": {},
   "outputs": [
    {
     "data": {
      "text/plain": [
       "[['Roads',\n",
       "  'Charities',\n",
       "  'Disability discrimination',\n",
       "  'Animals',\n",
       "  'Service industries'],\n",
       " ['Tourism'],\n",
       " ['Health services', 'Mental health']]"
      ]
     },
     "execution_count": 76,
     "metadata": {},
     "output_type": "execute_result"
    }
   ],
   "source": [
    "#ytrain= [[target_names.index(i) for i in t] for t in m_df['topic'][:-100] ]\n",
    "#ytrain[:3]\n",
    "y_train_text = [ t for t in m_df['topic'][:-100] ]\n",
    "y_train_text[:3]"
   ]
  },
  {
   "cell_type": "code",
   "execution_count": 96,
   "metadata": {},
   "outputs": [
    {
     "name": "stdout",
     "output_type": "stream",
     "text": [
      "some hits:\n",
      "That this House believes that air pollution from burning diesel has a significant impact on health in the UK, causing thousands of premature deaths and reducing quality of life for many people; acknowledges that forthcoming legislation to tackle emissions, such as Clean Air Zones proposed by the Department for Environment, Food and Rural Affairs, needs to look at all sources of diesel emissions; notes that auxiliary engines, such as transport refrigeration units, can emit many times more nitrogen oxides and particulate matter than a vehicle's primary engine; and calls for legislation to reflect this in order to protect people's health and help promote the uptake of clean alternatives. => Pollution\n",
      "That this House notes the decision to leave the EU made in the referendum held on 23 June 2016; further notes that this decision did not call for the UK to leave the Single European Market and the Conservative Party manifesto commitment to safeguard British interests in the Single Market; notes that the Prime Minister does not intend to offer the House a vote on the strategic priorities to be pursued in the UK's negotiations with the EU or on whether to trigger Article 50 of the Lisbon Treaty; duly notes the consequential impact on the value of the pound, the concerns expressed by the UK's business partners for the prospects for the UK economy and HM Treasury's estimate of the long-term cost of Hard Brexit; and calls on the Government to reverse its decision not to offer the House a vote on the strategic priorities to be pursued in the UK's negotiations with the EU and to seek a democratic mandate for the outcome of that negotiation by vote of the House. => EU law and treaties\n",
      "That this House welcomes the birth of Ibrahim Al Hussein, thought to be the first child of Syrian refugees born in Aberdeen; congratulates his parents Fadila and Khalid and his brother Shadea on making their new home in the North East of Scotland after fleeing the horrors of war-torn Damascus; recognises the harrowing experiences Fadila and Khalid went through living in the refugee camp outside Erbil in Iraq for 27 months; regrets that they were unable to reach the UK before Shadea's birth meaning Fadila had to give birth to her eldest son in the camp where the family lived in a small tent with a mud floor; believes that more refugees must be brought into the UK in order to prevent more individuals and families from living in such horrific conditions; and calls for the Government to take in more refugees fleeing the war in Syria so that more children like Ibrahim can be born in safe and peaceful circumstances. => Asylum\n",
      "\n",
      "some misses:\n",
      "That this House congratulates Ayrshire College on winning the Semta Skills Award for Training Partner of the Year 2017; understands that Ayrshire College has developed a close strategic partnership with industry that supports both the students to learn valuable in-demand skills and local companies need for highly trained individuals to join the workforce; notes that Ayrshire College has sparked the imagination of 200 school pupils and college students with its competition to design a space experiment aided by NASA experts, the winning entry will be tested at the International Space Station in 2017; applauds its #ThisAyrshireGirlCan campaign to encourage more girls into engineering and advancing equality by promoting apprenticeships to female students; recognises the great success of its scheme to retrain unemployed engineers and through a partnership business help them re-join the local workforce; wishes Ayrshire College continued success with its strategic partnership approach. => \n",
      "That this House notes that Diageo closed its final salary pension scheme to new employees in 2005, replacing this with the Lifestyle Plan Pension Scheme; further notes Diageo's announcement that this replacement scheme will now be closed to new starters, without consultation, the final salary scheme closed completely, and that a defined contribution scheme will be introduced; notes the company's operating profit is expected to be £2.841 billion for 2016, a 3.5 per cent increase from that in 2015; considers that profits are generated through the hard work of Diageo's workforce and that these new pension proposals are an attack on the terms and conditions of the workers; fears that this proposal is purely a cost-cutting measure; supports the efforts of the trade unions GMB and UNITE to represent their members and secure pensions justice; and demands that the board of directors at Diageo intervene and reverse this proposal. => \n",
      "That this House recognises the achievements of BRAG Enterprise, which is based in Lochgelly; commends the work it  does in regenerating local communities through the creation and support of sustainable employment; welcomes the organisation's new programme Greenpower Formula 24 which introduces young people to STEM subjects through the designing, building, modification and racing of a full-size single seater battery-powered racing car; praises the project's aims to change the perception of STEM subjects and encourage more girls into the field; wishes the project every success and hopes it will inspire many into the field; understands the great potential for work like this to be developed in Scotland; and highlights the importance of STEM subjects to Scotland and its wider economy. => \n"
     ]
    }
   ],
   "source": [
    "mlb = MultiLabelBinarizer()\n",
    "Y = mlb.fit_transform(y_train_text)\n",
    "\n",
    "classifier = Pipeline([\n",
    "    ('vectorizer', CountVectorizer(analyzer='word',stop_words='english')),\n",
    "    ('tfidf', TfidfTransformer()),\n",
    "    ('clf', OneVsRestClassifier(LinearSVC()))])\n",
    "\n",
    "classifier.fit(X_train, Y)\n",
    "predicted = classifier.predict(X_test)\n",
    "all_labels = mlb.inverse_transform(predicted)\n",
    "\n",
    "hits=[]\n",
    "misses=[]\n",
    "for item, labels in zip(X_test, all_labels):\n",
    "    if labels!=(): hits.append('{0} => {1}'.format(item, ', '.join(labels)))\n",
    "    else: misses.append('{0} => {1}'.format(item, ', '.join(labels)))\n",
    "        \n",
    "print(\"some hits:\\n{}\\n\\nsome misses:\\n{}\".format('\\n'.join(hits[:3]),'\\n'.join(misses[:3])))"
   ]
  },
  {
   "cell_type": "code",
   "execution_count": 94,
   "metadata": {},
   "outputs": [
    {
     "data": {
      "text/plain": [
       "('Oil, petrol and natural gas',)"
      ]
     },
     "execution_count": 94,
     "metadata": {},
     "output_type": "execute_result"
    }
   ],
   "source": [
    "labels"
   ]
  },
  {
   "cell_type": "markdown",
   "metadata": {},
   "source": [
    "## Exploring the Data - proceedings"
   ]
  },
  {
   "cell_type": "code",
   "execution_count": null,
   "metadata": {},
   "outputs": [],
   "source": [
    "path='../data/dataexport/proceedings'\n",
    "p=ttl_graphbuilder(path,debug=True)"
   ]
  },
  {
   "cell_type": "code",
   "execution_count": null,
   "metadata": {},
   "outputs": [],
   "source": [
    "!ls {path}"
   ]
  },
  {
   "cell_type": "code",
   "execution_count": null,
   "metadata": {},
   "outputs": [],
   "source": [
    "!cat {path}/0006D323-D0B5-4E22-A26E-75ABB621F58E.ttl"
   ]
  },
  {
   "cell_type": "markdown",
   "metadata": {
    "collapsed": true
   },
   "source": []
  }
 ],
 "metadata": {
  "kernelspec": {
   "display_name": "Python 3",
   "language": "python",
   "name": "python3"
  },
  "language_info": {
   "codemirror_mode": {
    "name": "ipython",
    "version": 3
   },
   "file_extension": ".py",
   "mimetype": "text/x-python",
   "name": "python",
   "nbconvert_exporter": "python",
   "pygments_lexer": "ipython3",
   "version": "3.6.1"
  }
 },
 "nbformat": 4,
 "nbformat_minor": 2
}
